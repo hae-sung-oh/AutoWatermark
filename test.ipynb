{
 "cells": [
  {
   "cell_type": "code",
   "execution_count": 48,
   "metadata": {},
   "outputs": [],
   "source": [
    "import cv2\n",
    "import numpy as np\n",
    "from glob import glob\n",
    "\n",
    "ratio = 0.08\n",
    "\n",
    "images = glob('./A7M4/230727 - 31 문덕 아웃리치/Select/*.jpg')\n",
    "\n",
    "def kor_imread(path):\n",
    "    img_array = np.fromfile(path, np.uint8)\n",
    "    return cv2.imdecode(img_array, cv2.IMREAD_COLOR)\n",
    "\n",
    "def kor_pngread(path):\n",
    "    img_array = np.fromfile(path, np.uint8)\n",
    "    return cv2.imdecode(img_array, cv2.IMREAD_UNCHANGED)\n",
    "\n",
    "hub_black = 'C:/Users/오해성/Pictures/HUB_BLACK.png'\n",
    "hub_white = 'C:/Users/오해성/Pictures/HUB_WHITE.png'\n",
    "\n",
    "\n",
    "def AutoWatermark(image, ratio, white, black):\n",
    "    img = kor_imread(image)\n",
    "    h_img, w_img, _ = img.shape\n",
    "\n",
    "    dst = img[\n",
    "        int(h_img - (h_img * ratio)) : h_img, int(w_img - (w_img * ratio)) : w_img\n",
    "    ]\n",
    "\n",
    "    if np.mean(dst)/255 > 0.5:\n",
    "        logo = kor_pngread(black)\n",
    "    else:\n",
    "        logo = kor_pngread(white)\n",
    "\n",
    "    h_logo, w_logo, _ = logo.shape\n",
    "\n",
    "    logo = cv2.resize(\n",
    "        logo,\n",
    "        (int(w_img * ratio), int(w_img * ratio * h_logo / w_logo)),\n",
    "        interpolation=cv2.INTER_CUBIC,\n",
    "    )\n",
    "    h_logo, w_logo, _ = logo.shape\n",
    "\n",
    "    alpha = logo[:, :, 3]\n",
    "    rgb = logo[:, :, :3]\n",
    "\n",
    "    alpha = np.expand_dims(alpha, axis=2)\n",
    "    alpha = np.repeat(alpha, 3, axis=2)\n",
    "\n",
    "    destination = img[h_img - h_logo : h_img, w_img - w_logo : w_img]\n",
    "    result = cv2.multiply(destination.astype(float), (1 - (alpha / 255)))\n",
    "    result += cv2.multiply(rgb.astype(float), (alpha / 255))\n",
    "    result = result.astype(np.uint8)\n",
    "\n",
    "    img[h_img - h_logo : h_img, w_img - w_logo : w_img] = result\n",
    "\n",
    "    cv2.imwrite('./test.jpg', img)"
   ]
  },
  {
   "cell_type": "code",
   "execution_count": 34,
   "metadata": {},
   "outputs": [
    {
     "data": {
      "text/plain": [
       "['./A7M4/230727 - 31 문덕 아웃리치/Select\\\\230730 Select-9.jpg',\n",
       " './A7M4/230727 - 31 문덕 아웃리치/Select\\\\230730 Select-10.jpg',\n",
       " './A7M4/230727 - 31 문덕 아웃리치/Select\\\\230727-31 문덕아웃리치 (David)-389-1.jpg',\n",
       " './A7M4/230727 - 31 문덕 아웃리치/Select\\\\230730 Select-1.jpg',\n",
       " './A7M4/230727 - 31 문덕 아웃리치/Select\\\\230730 Select-2.jpg',\n",
       " './A7M4/230727 - 31 문덕 아웃리치/Select\\\\230730 Select-3.jpg',\n",
       " './A7M4/230727 - 31 문덕 아웃리치/Select\\\\230730 Select-5.jpg',\n",
       " './A7M4/230727 - 31 문덕 아웃리치/Select\\\\230730 Select-6.jpg',\n",
       " './A7M4/230727 - 31 문덕 아웃리치/Select\\\\230730 Select-7.jpg',\n",
       " './A7M4/230727 - 31 문덕 아웃리치/Select\\\\230730 Select-8.jpg']"
      ]
     },
     "execution_count": 34,
     "metadata": {},
     "output_type": "execute_result"
    }
   ],
   "source": [
    "images"
   ]
  },
  {
   "cell_type": "code",
   "execution_count": 49,
   "metadata": {},
   "outputs": [],
   "source": [
    "AutoWatermark(images[3], ratio, hub_white, hub_black)"
   ]
  }
 ],
 "metadata": {
  "kernelspec": {
   "display_name": "firepath",
   "language": "python",
   "name": "python3"
  },
  "language_info": {
   "codemirror_mode": {
    "name": "ipython",
    "version": 3
   },
   "file_extension": ".py",
   "mimetype": "text/x-python",
   "name": "python",
   "nbconvert_exporter": "python",
   "pygments_lexer": "ipython3",
   "version": "3.8.3"
  },
  "orig_nbformat": 4
 },
 "nbformat": 4,
 "nbformat_minor": 2
}
